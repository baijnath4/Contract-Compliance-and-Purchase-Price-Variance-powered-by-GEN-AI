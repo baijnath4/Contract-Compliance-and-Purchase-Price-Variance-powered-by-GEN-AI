{
 "cells": [
  {
   "cell_type": "code",
   "execution_count": 3,
   "id": "491aed13",
   "metadata": {},
   "outputs": [],
   "source": [
    "import os\n",
    "from pdfminer.high_level import extract_text\n",
    "import pandas as pd"
   ]
  },
  {
   "cell_type": "code",
   "execution_count": 4,
   "id": "1fce5e9c",
   "metadata": {},
   "outputs": [
    {
     "name": "stdout",
     "output_type": "stream",
     "text": [
      "C0_1L976.pdf\n",
      "CO_12L23.pdf\n"
     ]
    }
   ],
   "source": [
    "UPLOAD_FOLDER_pdf = \"C:/Users/01934L744/Box/Baijnath Data/Project 2023/Nidhi/contract - v4/upload/\"\n",
    "fCount = 0\n",
    "dictfile = {}\n",
    "for file in os.listdir('upload/'):\n",
    "    print(file)\n",
    "    path = os.path.join(UPLOAD_FOLDER_pdf,file)\n",
    "    doc_text_ppv = extract_text(path)\n",
    "    dictfile[fCount] = [file,doc_text_ppv]\n",
    "    fCount=fCount+1\n",
    "\n"
   ]
  },
  {
   "cell_type": "code",
   "execution_count": 5,
   "id": "b9dc06eb",
   "metadata": {},
   "outputs": [
    {
     "data": {
      "text/plain": [
       "'C0_1L976.pdf'"
      ]
     },
     "execution_count": 5,
     "metadata": {},
     "output_type": "execute_result"
    }
   ],
   "source": [
    "dictfile[0][0]"
   ]
  },
  {
   "cell_type": "code",
   "execution_count": 6,
   "id": "bded2877",
   "metadata": {},
   "outputs": [],
   "source": [
    "def dumm_data():\n",
    "    dictfileDummy = {}\n",
    "    UPLOAD_FOLDER_dummy = \"C:/Users/01934L744/Box/Baijnath Data/Project 2023/Nidhi/contract - v4/dummy/\"\n",
    "    for file in os.listdir('dummy/'):\n",
    "\n",
    "        path = os.path.join(UPLOAD_FOLDER_dummy,file)\n",
    "\n",
    "        df = pd.read_excel(path)\n",
    "        dictfileDummy[file] = df\n",
    "    return dictfileDummy"
   ]
  },
  {
   "cell_type": "code",
   "execution_count": 7,
   "id": "e82f25f3",
   "metadata": {},
   "outputs": [],
   "source": [
    "dictfileDummy = dumm_data()"
   ]
  },
  {
   "cell_type": "code",
   "execution_count": 12,
   "id": "eb9d8cf4",
   "metadata": {},
   "outputs": [],
   "source": [
    "df=dictfileDummy['C0_1L976.xlsx']"
   ]
  },
  {
   "cell_type": "code",
   "execution_count": 16,
   "id": "b2f7e24c",
   "metadata": {},
   "outputs": [
    {
     "data": {
      "text/plain": [
       "2"
      ]
     },
     "execution_count": 16,
     "metadata": {},
     "output_type": "execute_result"
    }
   ],
   "source": [
    "len(df)"
   ]
  },
  {
   "cell_type": "code",
   "execution_count": null,
   "id": "ecd2bd0b",
   "metadata": {},
   "outputs": [],
   "source": []
  },
  {
   "cell_type": "code",
   "execution_count": 48,
   "id": "ba9430d2",
   "metadata": {},
   "outputs": [],
   "source": [
    "data = dictfileDummy['C0_1L976.xlsx']"
   ]
  },
  {
   "cell_type": "code",
   "execution_count": 49,
   "id": "538cabb2",
   "metadata": {},
   "outputs": [
    {
     "data": {
      "text/plain": [
       "pandas.core.frame.DataFrame"
      ]
     },
     "execution_count": 49,
     "metadata": {},
     "output_type": "execute_result"
    }
   ],
   "source": [
    "type(data)"
   ]
  },
  {
   "cell_type": "code",
   "execution_count": 42,
   "id": "610c9fb2",
   "metadata": {},
   "outputs": [],
   "source": [
    "data = dictfileDummy[dummFileName]"
   ]
  },
  {
   "cell_type": "code",
   "execution_count": 43,
   "id": "fbfed743",
   "metadata": {},
   "outputs": [
    {
     "data": {
      "text/plain": [
       "pandas.core.frame.DataFrame"
      ]
     },
     "execution_count": 43,
     "metadata": {},
     "output_type": "execute_result"
    }
   ],
   "source": [
    "type(data)"
   ]
  },
  {
   "cell_type": "code",
   "execution_count": 50,
   "id": "c6b1cf31",
   "metadata": {},
   "outputs": [
    {
     "data": {
      "text/plain": [
       "{'C0_1L976.xlsx':   Contract_ID             Suppliers   Line Item Description  \\\n",
       " 0    C0_1L976  Electric Service Inc     Foreman Electrician   \n",
       " 1    C0_1L976  Electric Service Inc  Journeyman Electrician   \n",
       " \n",
       "    Contracted Payterms  Contracted Unit Price Unit of Measure  \n",
       " 0                  150                   92.4           Hours  \n",
       " 1                  150                  115.3           Hours  ,\n",
       " 'CO_12L23.xlsx':   Contract_ID                  Suppliers Line Item Description  \\\n",
       " 0    CO_12L23  saga innovations services               Partner   \n",
       " 1    CO_12L23  saga innovations services        Senior Manager   \n",
       " 2    CO_12L23  saga innovations services               Manager   \n",
       " 3    CO_12L23  saga innovations services                Senior   \n",
       " \n",
       "    Contracted Payterms  Contracted Unit Price Unit of Measure  \n",
       " 0                   60                    500           Hours  \n",
       " 1                   60                    400           Hours  \n",
       " 2                   60                    300           Hours  \n",
       " 3                   60                    300           Hours  }"
      ]
     },
     "execution_count": 50,
     "metadata": {},
     "output_type": "execute_result"
    }
   ],
   "source": []
  },
  {
   "cell_type": "code",
   "execution_count": null,
   "id": "b5ced9bf",
   "metadata": {},
   "outputs": [],
   "source": []
  }
 ],
 "metadata": {
  "kernelspec": {
   "display_name": "Python 3 (ipykernel)",
   "language": "python",
   "name": "python3"
  },
  "language_info": {
   "codemirror_mode": {
    "name": "ipython",
    "version": 3
   },
   "file_extension": ".py",
   "mimetype": "text/x-python",
   "name": "python",
   "nbconvert_exporter": "python",
   "pygments_lexer": "ipython3",
   "version": "3.10.5"
  }
 },
 "nbformat": 4,
 "nbformat_minor": 5
}
